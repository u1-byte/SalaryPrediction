{
  "nbformat": 4,
  "nbformat_minor": 0,
  "metadata": {
    "colab": {
      "name": "FinalProject.ipynb",
      "provenance": [],
      "collapsed_sections": [],
      "toc_visible": true
    },
    "kernelspec": {
      "name": "python3",
      "display_name": "Python 3"
    }
  },
  "cells": [
    {
      "cell_type": "markdown",
      "metadata": {
        "id": "w61-yyqmpBPo",
        "colab_type": "text"
      },
      "source": [
        "### Data Load and View"
      ]
    },
    {
      "cell_type": "code",
      "metadata": {
        "id": "6GTsD0VZnroM",
        "colab_type": "code",
        "colab": {}
      },
      "source": [
        "import pandas as pd\n",
        "\n",
        "df_train = pd.read_csv('pendapatan_train.csv')\n",
        "df_test = pd.read_csv('pendapatan_test.csv')\n",
        "df_full = [df_train, df_test]"
      ],
      "execution_count": null,
      "outputs": []
    },
    {
      "cell_type": "code",
      "metadata": {
        "id": "ZLAyPFSjoWJi",
        "colab_type": "code",
        "colab": {
          "base_uri": "https://localhost:8080/",
          "height": 353
        },
        "outputId": "2a122946-dd0a-4a14-844a-1e4634ab5caa"
      },
      "source": [
        "df_train.info()"
      ],
      "execution_count": null,
      "outputs": [
        {
          "output_type": "stream",
          "text": [
            "<class 'pandas.core.frame.DataFrame'>\n",
            "RangeIndex: 28794 entries, 0 to 28793\n",
            "Data columns (total 13 columns):\n",
            " #   Column                 Non-Null Count  Dtype  \n",
            "---  ------                 --------------  -----  \n",
            " 0   id                     28794 non-null  int64  \n",
            " 1   Umur                   28794 non-null  int64  \n",
            " 2   Kelas Pekerja          28794 non-null  object \n",
            " 3   Berat Akhir            28794 non-null  int64  \n",
            " 4   Pendidikan             28794 non-null  object \n",
            " 5   Jmlh Tahun Pendidikan  28794 non-null  int64  \n",
            " 6   Status Perkawinan      28794 non-null  object \n",
            " 7   Pekerjaan              28794 non-null  object \n",
            " 8   Jenis Kelamin          28794 non-null  object \n",
            " 9   Keuntungan Kapital     28794 non-null  float64\n",
            " 10  Kerugian Capital       28794 non-null  float64\n",
            " 11  Jam per Minggu         28794 non-null  float64\n",
            " 12  Gaji                   28794 non-null  object \n",
            "dtypes: float64(3), int64(4), object(6)\n",
            "memory usage: 2.9+ MB\n"
          ],
          "name": "stdout"
        }
      ]
    },
    {
      "cell_type": "code",
      "metadata": {
        "id": "Av11e17joXTM",
        "colab_type": "code",
        "colab": {
          "base_uri": "https://localhost:8080/",
          "height": 336
        },
        "outputId": "dcb83ce4-6809-428b-bc11-363f1bc01ee5"
      },
      "source": [
        "df_test.info()"
      ],
      "execution_count": null,
      "outputs": [
        {
          "output_type": "stream",
          "text": [
            "<class 'pandas.core.frame.DataFrame'>\n",
            "RangeIndex: 9599 entries, 0 to 9598\n",
            "Data columns (total 12 columns):\n",
            " #   Column                 Non-Null Count  Dtype  \n",
            "---  ------                 --------------  -----  \n",
            " 0   id                     9599 non-null   int64  \n",
            " 1   Umur                   9599 non-null   int64  \n",
            " 2   Kelas Pekerja          9599 non-null   object \n",
            " 3   Berat Akhir            9599 non-null   int64  \n",
            " 4   Pendidikan             9599 non-null   object \n",
            " 5   Jmlh Tahun Pendidikan  9599 non-null   int64  \n",
            " 6   Status Perkawinan      9599 non-null   object \n",
            " 7   Pekerjaan              9599 non-null   object \n",
            " 8   Jenis Kelamin          9599 non-null   object \n",
            " 9   Keuntungan Kapital     9599 non-null   float64\n",
            " 10  Kerugian Capital       9599 non-null   float64\n",
            " 11  Jam per Minggu         9599 non-null   float64\n",
            "dtypes: float64(3), int64(4), object(5)\n",
            "memory usage: 900.0+ KB\n"
          ],
          "name": "stdout"
        }
      ]
    },
    {
      "cell_type": "markdown",
      "metadata": {
        "id": "PDd84JvzpHOk",
        "colab_type": "text"
      },
      "source": [
        "### Data Exploration"
      ]
    },
    {
      "cell_type": "code",
      "metadata": {
        "id": "-LtCl9uAzr8_",
        "colab_type": "code",
        "colab": {
          "base_uri": "https://localhost:8080/",
          "height": 67
        },
        "outputId": "67dd2811-5125-4710-abe8-35a99202be20"
      },
      "source": [
        "df_train['Gaji'].value_counts()"
      ],
      "execution_count": null,
      "outputs": [
        {
          "output_type": "execute_result",
          "data": {
            "text/plain": [
              "<=7jt    21973\n",
              ">7jt      6821\n",
              "Name: Gaji, dtype: int64"
            ]
          },
          "metadata": {
            "tags": []
          },
          "execution_count": 144
        }
      ]
    },
    {
      "cell_type": "code",
      "metadata": {
        "id": "PPJBwNOBMlf9",
        "colab_type": "code",
        "colab": {
          "base_uri": "https://localhost:8080/",
          "height": 106
        },
        "outputId": "dacf2a73-088e-4563-bdd8-0e06f1a74523"
      },
      "source": [
        "df_train[['Kerugian Capital', 'Keuntungan Kapital', 'Gaji']].groupby(['Gaji'], as_index=False).mean()"
      ],
      "execution_count": null,
      "outputs": [
        {
          "output_type": "execute_result",
          "data": {
            "text/html": [
              "<div>\n",
              "<style scoped>\n",
              "    .dataframe tbody tr th:only-of-type {\n",
              "        vertical-align: middle;\n",
              "    }\n",
              "\n",
              "    .dataframe tbody tr th {\n",
              "        vertical-align: top;\n",
              "    }\n",
              "\n",
              "    .dataframe thead th {\n",
              "        text-align: right;\n",
              "    }\n",
              "</style>\n",
              "<table border=\"1\" class=\"dataframe\">\n",
              "  <thead>\n",
              "    <tr style=\"text-align: right;\">\n",
              "      <th></th>\n",
              "      <th>Gaji</th>\n",
              "      <th>Kerugian Capital</th>\n",
              "      <th>Keuntungan Kapital</th>\n",
              "    </tr>\n",
              "  </thead>\n",
              "  <tbody>\n",
              "    <tr>\n",
              "      <th>0</th>\n",
              "      <td>&lt;=7jt</td>\n",
              "      <td>7.667569e+05</td>\n",
              "      <td>2.117977e+06</td>\n",
              "    </tr>\n",
              "    <tr>\n",
              "      <th>1</th>\n",
              "      <td>&gt;7jt</td>\n",
              "      <td>2.684295e+06</td>\n",
              "      <td>5.851150e+07</td>\n",
              "    </tr>\n",
              "  </tbody>\n",
              "</table>\n",
              "</div>"
            ],
            "text/plain": [
              "    Gaji  Kerugian Capital  Keuntungan Kapital\n",
              "0  <=7jt      7.667569e+05        2.117977e+06\n",
              "1   >7jt      2.684295e+06        5.851150e+07"
            ]
          },
          "metadata": {
            "tags": []
          },
          "execution_count": 213
        }
      ]
    },
    {
      "cell_type": "code",
      "metadata": {
        "id": "fjXVrjn9l1uF",
        "colab_type": "code",
        "colab": {}
      },
      "source": [
        "gaji = {'<=7jt' : 0, '>7jt' : 1}\n",
        "df_train['Gaji'].replace(gaji, inplace=True)"
      ],
      "execution_count": null,
      "outputs": []
    },
    {
      "cell_type": "code",
      "metadata": {
        "id": "hrXJSL5Lxnut",
        "colab_type": "code",
        "colab": {}
      },
      "source": [
        "for dataset in df_full:\n",
        "  dataset['Pekerjaan'].replace('?', 'Lainnya', inplace=True)\n",
        "  dataset['Kelas Pekerja'].replace('?', 'Lainnya', inplace=True)\n",
        "  dataset['Gender'] = dataset['Jenis Kelamin'].map({'Perempuan' : 0, 'Laki2': 1})"
      ],
      "execution_count": null,
      "outputs": []
    },
    {
      "cell_type": "code",
      "metadata": {
        "id": "FmL5Hzryl_ag",
        "colab_type": "code",
        "colab": {
          "base_uri": "https://localhost:8080/",
          "height": 296
        },
        "outputId": "b5384ea6-9f56-4cf0-e51f-2fc5dc23dc32"
      },
      "source": [
        "df_test.tail()"
      ],
      "execution_count": null,
      "outputs": [
        {
          "output_type": "execute_result",
          "data": {
            "text/html": [
              "<div>\n",
              "<style scoped>\n",
              "    .dataframe tbody tr th:only-of-type {\n",
              "        vertical-align: middle;\n",
              "    }\n",
              "\n",
              "    .dataframe tbody tr th {\n",
              "        vertical-align: top;\n",
              "    }\n",
              "\n",
              "    .dataframe thead th {\n",
              "        text-align: right;\n",
              "    }\n",
              "</style>\n",
              "<table border=\"1\" class=\"dataframe\">\n",
              "  <thead>\n",
              "    <tr style=\"text-align: right;\">\n",
              "      <th></th>\n",
              "      <th>id</th>\n",
              "      <th>Umur</th>\n",
              "      <th>Kelas Pekerja</th>\n",
              "      <th>Berat Akhir</th>\n",
              "      <th>Pendidikan</th>\n",
              "      <th>Jmlh Tahun Pendidikan</th>\n",
              "      <th>Status Perkawinan</th>\n",
              "      <th>Pekerjaan</th>\n",
              "      <th>Jenis Kelamin</th>\n",
              "      <th>Keuntungan Kapital</th>\n",
              "      <th>Kerugian Capital</th>\n",
              "      <th>Jam per Minggu</th>\n",
              "      <th>Gender</th>\n",
              "    </tr>\n",
              "  </thead>\n",
              "  <tbody>\n",
              "    <tr>\n",
              "      <th>9594</th>\n",
              "      <td>38388</td>\n",
              "      <td>54</td>\n",
              "      <td>Wiraswasta</td>\n",
              "      <td>297551</td>\n",
              "      <td>Pendidikan Tinggi</td>\n",
              "      <td>10</td>\n",
              "      <td>Menikah</td>\n",
              "      <td>Perbaikan Kerajinan</td>\n",
              "      <td>Laki2</td>\n",
              "      <td>102172000.0</td>\n",
              "      <td>0.0</td>\n",
              "      <td>40.0</td>\n",
              "      <td>1</td>\n",
              "    </tr>\n",
              "    <tr>\n",
              "      <th>9595</th>\n",
              "      <td>38389</td>\n",
              "      <td>33</td>\n",
              "      <td>Wiraswasta</td>\n",
              "      <td>236396</td>\n",
              "      <td>Sarjana</td>\n",
              "      <td>13</td>\n",
              "      <td>Menikah</td>\n",
              "      <td>Ekesekutif Managerial</td>\n",
              "      <td>Laki2</td>\n",
              "      <td>210336000.0</td>\n",
              "      <td>0.0</td>\n",
              "      <td>55.0</td>\n",
              "      <td>1</td>\n",
              "    </tr>\n",
              "    <tr>\n",
              "      <th>9596</th>\n",
              "      <td>38390</td>\n",
              "      <td>24</td>\n",
              "      <td>Wiraswasta</td>\n",
              "      <td>83774</td>\n",
              "      <td>SMA</td>\n",
              "      <td>9</td>\n",
              "      <td>Menikah</td>\n",
              "      <td>Servis Lainnya</td>\n",
              "      <td>Laki2</td>\n",
              "      <td>40390000.0</td>\n",
              "      <td>0.0</td>\n",
              "      <td>45.0</td>\n",
              "      <td>1</td>\n",
              "    </tr>\n",
              "    <tr>\n",
              "      <th>9597</th>\n",
              "      <td>38391</td>\n",
              "      <td>34</td>\n",
              "      <td>Wiraswasta</td>\n",
              "      <td>340458</td>\n",
              "      <td>SMA</td>\n",
              "      <td>9</td>\n",
              "      <td>Cerai</td>\n",
              "      <td>Mesin Inspeksi</td>\n",
              "      <td>Perempuan</td>\n",
              "      <td>0.0</td>\n",
              "      <td>0.0</td>\n",
              "      <td>40.0</td>\n",
              "      <td>0</td>\n",
              "    </tr>\n",
              "    <tr>\n",
              "      <th>9598</th>\n",
              "      <td>38392</td>\n",
              "      <td>63</td>\n",
              "      <td>Wiraswasta</td>\n",
              "      <td>209790</td>\n",
              "      <td>SMA</td>\n",
              "      <td>9</td>\n",
              "      <td>Menikah</td>\n",
              "      <td>Perbaikan Kerajinan</td>\n",
              "      <td>Laki2</td>\n",
              "      <td>0.0</td>\n",
              "      <td>0.0</td>\n",
              "      <td>40.0</td>\n",
              "      <td>1</td>\n",
              "    </tr>\n",
              "  </tbody>\n",
              "</table>\n",
              "</div>"
            ],
            "text/plain": [
              "         id  Umur Kelas Pekerja  ...  Kerugian Capital Jam per Minggu  Gender\n",
              "9594  38388    54    Wiraswasta  ...               0.0           40.0       1\n",
              "9595  38389    33    Wiraswasta  ...               0.0           55.0       1\n",
              "9596  38390    24    Wiraswasta  ...               0.0           45.0       1\n",
              "9597  38391    34    Wiraswasta  ...               0.0           40.0       0\n",
              "9598  38392    63    Wiraswasta  ...               0.0           40.0       1\n",
              "\n",
              "[5 rows x 13 columns]"
            ]
          },
          "metadata": {
            "tags": []
          },
          "execution_count": 216
        }
      ]
    },
    {
      "cell_type": "code",
      "metadata": {
        "id": "B-UbVTWK2fkv",
        "colab_type": "code",
        "colab": {}
      },
      "source": [
        "for dataset in df_full:\n",
        "  dataset['Kelas Pekerja'] = dataset['Kelas Pekerja'].astype('category')\n",
        "  dataset['Pendidikan'] = dataset['Pendidikan'].astype('category')\n",
        "  dataset['Status Perkawinan'] = dataset['Status Perkawinan'].astype('category')\n",
        "  dataset['Pekerjaan'] = dataset['Pekerjaan'].astype('category')\n",
        "  dataset['Jmlh Tahun Pendidikan'] = dataset['Jmlh Tahun Pendidikan'].astype('category')\n",
        "\n",
        "  dataset['Kelas Pekerja'] = dataset['Kelas Pekerja'].cat.codes\n",
        "  dataset['Pendidikan'] = dataset['Pendidikan'].cat.codes\n",
        "  dataset['Status Perkawinan'] = dataset['Status Perkawinan'].cat.codes\n",
        "  dataset['Pekerjaan'] = dataset['Pekerjaan'].cat.codes\n",
        "  dataset['Jmlh Tahun Pendidikan'] = dataset['Jmlh Tahun Pendidikan'].cat.codes"
      ],
      "execution_count": null,
      "outputs": []
    },
    {
      "cell_type": "code",
      "metadata": {
        "id": "ypX5fJQbHdXr",
        "colab_type": "code",
        "colab": {
          "base_uri": "https://localhost:8080/",
          "height": 370
        },
        "outputId": "53570043-dd13-4efb-90c7-fb38a654f9fd"
      },
      "source": [
        "df_train.info()"
      ],
      "execution_count": null,
      "outputs": [
        {
          "output_type": "stream",
          "text": [
            "<class 'pandas.core.frame.DataFrame'>\n",
            "RangeIndex: 28794 entries, 0 to 28793\n",
            "Data columns (total 14 columns):\n",
            " #   Column                 Non-Null Count  Dtype  \n",
            "---  ------                 --------------  -----  \n",
            " 0   id                     28794 non-null  int64  \n",
            " 1   Umur                   28794 non-null  int64  \n",
            " 2   Kelas Pekerja          28794 non-null  int8   \n",
            " 3   Berat Akhir            28794 non-null  int64  \n",
            " 4   Pendidikan             28794 non-null  int8   \n",
            " 5   Jmlh Tahun Pendidikan  28794 non-null  int8   \n",
            " 6   Status Perkawinan      28794 non-null  int8   \n",
            " 7   Pekerjaan              28794 non-null  int8   \n",
            " 8   Jenis Kelamin          28794 non-null  object \n",
            " 9   Keuntungan Kapital     28794 non-null  float64\n",
            " 10  Kerugian Capital       28794 non-null  float64\n",
            " 11  Jam per Minggu         28794 non-null  float64\n",
            " 12  Gaji                   28794 non-null  int64  \n",
            " 13  Gender                 28794 non-null  int64  \n",
            "dtypes: float64(3), int64(5), int8(5), object(1)\n",
            "memory usage: 2.1+ MB\n"
          ],
          "name": "stdout"
        }
      ]
    },
    {
      "cell_type": "code",
      "metadata": {
        "id": "f-HzM8pwn3md",
        "colab_type": "code",
        "colab": {}
      },
      "source": [
        "from sklearn.preprocessing import MinMaxScaler\n",
        "import numpy as np\n",
        "minmax = MinMaxScaler()\n",
        "for ds in df_full:\n",
        "  ds['Keuntungan'] = minmax.fit_transform(ds['Keuntungan Kapital'][:, np.newaxis])\n",
        "  ds['Kerugian'] = minmax.fit_transform(ds['Kerugian Capital'][:, np.newaxis])"
      ],
      "execution_count": null,
      "outputs": []
    },
    {
      "cell_type": "code",
      "metadata": {
        "id": "bIVhenYZqls1",
        "colab_type": "code",
        "colab": {}
      },
      "source": [
        "for ds in df_full:\n",
        "  ds['Usia'] = pd.cut(ds['Umur'], 3).astype('category')\n",
        "  ds['Jam Kerja'] = pd.cut(ds['Jam per Minggu'], 3).astype('category')\n",
        "  ds['Akumulasi Berat'] = pd.cut(ds['Berat Akhir'], 3).astype('category')\n",
        "  ds['Usia'] = ds['Usia'].cat.codes\n",
        "  ds['Jam Kerja'] = ds['Jam Kerja'].cat.codes\n",
        "  ds['Akumulasi Berat'] = ds['Akumulasi Berat'].cat.codes"
      ],
      "execution_count": null,
      "outputs": []
    },
    {
      "cell_type": "code",
      "metadata": {
        "id": "ZS91JLRlt-VW",
        "colab_type": "code",
        "colab": {}
      },
      "source": [
        "col_names = ['id', 'Umur', 'Berat Akhir', 'Jenis Kelamin', 'Keuntungan Kapital', 'Kerugian Capital', 'Jam per Minggu']\n",
        "df_train = df_train.drop(columns=col_names)\n",
        "df_test = df_test.drop(columns=col_names)"
      ],
      "execution_count": null,
      "outputs": []
    },
    {
      "cell_type": "code",
      "metadata": {
        "id": "WAAozjikqm0k",
        "colab_type": "code",
        "colab": {
          "base_uri": "https://localhost:8080/",
          "height": 336
        },
        "outputId": "0d76c393-259a-4c41-a25b-de885ea90a17"
      },
      "source": [
        "df_train.info()"
      ],
      "execution_count": null,
      "outputs": [
        {
          "output_type": "stream",
          "text": [
            "<class 'pandas.core.frame.DataFrame'>\n",
            "RangeIndex: 28794 entries, 0 to 28793\n",
            "Data columns (total 12 columns):\n",
            " #   Column                 Non-Null Count  Dtype  \n",
            "---  ------                 --------------  -----  \n",
            " 0   Kelas Pekerja          28794 non-null  int8   \n",
            " 1   Pendidikan             28794 non-null  int8   \n",
            " 2   Jmlh Tahun Pendidikan  28794 non-null  int8   \n",
            " 3   Status Perkawinan      28794 non-null  int8   \n",
            " 4   Pekerjaan              28794 non-null  int8   \n",
            " 5   Gaji                   28794 non-null  int64  \n",
            " 6   Gender                 28794 non-null  int64  \n",
            " 7   Keuntungan             28794 non-null  float64\n",
            " 8   Kerugian               28794 non-null  float64\n",
            " 9   Usia                   28794 non-null  int8   \n",
            " 10  Jam Kerja              28794 non-null  int8   \n",
            " 11  Akumulasi Berat        28794 non-null  int8   \n",
            "dtypes: float64(2), int64(2), int8(8)\n",
            "memory usage: 1.1 MB\n"
          ],
          "name": "stdout"
        }
      ]
    },
    {
      "cell_type": "code",
      "metadata": {
        "id": "n9F7j9OCu-Jf",
        "colab_type": "code",
        "colab": {
          "base_uri": "https://localhost:8080/",
          "height": 402
        },
        "outputId": "d70eee45-8116-40b2-99b9-1ca9e17f1094"
      },
      "source": [
        "df_test"
      ],
      "execution_count": null,
      "outputs": [
        {
          "output_type": "execute_result",
          "data": {
            "text/html": [
              "<div>\n",
              "<style scoped>\n",
              "    .dataframe tbody tr th:only-of-type {\n",
              "        vertical-align: middle;\n",
              "    }\n",
              "\n",
              "    .dataframe tbody tr th {\n",
              "        vertical-align: top;\n",
              "    }\n",
              "\n",
              "    .dataframe thead th {\n",
              "        text-align: right;\n",
              "    }\n",
              "</style>\n",
              "<table border=\"1\" class=\"dataframe\">\n",
              "  <thead>\n",
              "    <tr style=\"text-align: right;\">\n",
              "      <th></th>\n",
              "      <th>Kelas Pekerja</th>\n",
              "      <th>Pendidikan</th>\n",
              "      <th>Jmlh Tahun Pendidikan</th>\n",
              "      <th>Status Perkawinan</th>\n",
              "      <th>Pekerjaan</th>\n",
              "      <th>Gender</th>\n",
              "      <th>Usia</th>\n",
              "      <th>Jam Kerja</th>\n",
              "      <th>Akumulasi Berat</th>\n",
              "    </tr>\n",
              "  </thead>\n",
              "  <tbody>\n",
              "    <tr>\n",
              "      <th>0</th>\n",
              "      <td>5</td>\n",
              "      <td>13</td>\n",
              "      <td>8</td>\n",
              "      <td>4</td>\n",
              "      <td>5</td>\n",
              "      <td>0</td>\n",
              "      <td>0</td>\n",
              "      <td>1</td>\n",
              "      <td>0</td>\n",
              "    </tr>\n",
              "    <tr>\n",
              "      <th>1</th>\n",
              "      <td>8</td>\n",
              "      <td>13</td>\n",
              "      <td>8</td>\n",
              "      <td>4</td>\n",
              "      <td>3</td>\n",
              "      <td>1</td>\n",
              "      <td>0</td>\n",
              "      <td>1</td>\n",
              "      <td>0</td>\n",
              "    </tr>\n",
              "    <tr>\n",
              "      <th>2</th>\n",
              "      <td>8</td>\n",
              "      <td>13</td>\n",
              "      <td>8</td>\n",
              "      <td>4</td>\n",
              "      <td>1</td>\n",
              "      <td>1</td>\n",
              "      <td>1</td>\n",
              "      <td>1</td>\n",
              "      <td>0</td>\n",
              "    </tr>\n",
              "    <tr>\n",
              "      <th>3</th>\n",
              "      <td>8</td>\n",
              "      <td>13</td>\n",
              "      <td>8</td>\n",
              "      <td>4</td>\n",
              "      <td>7</td>\n",
              "      <td>1</td>\n",
              "      <td>1</td>\n",
              "      <td>1</td>\n",
              "      <td>1</td>\n",
              "    </tr>\n",
              "    <tr>\n",
              "      <th>4</th>\n",
              "      <td>8</td>\n",
              "      <td>13</td>\n",
              "      <td>8</td>\n",
              "      <td>1</td>\n",
              "      <td>5</td>\n",
              "      <td>0</td>\n",
              "      <td>1</td>\n",
              "      <td>0</td>\n",
              "      <td>0</td>\n",
              "    </tr>\n",
              "    <tr>\n",
              "      <th>...</th>\n",
              "      <td>...</td>\n",
              "      <td>...</td>\n",
              "      <td>...</td>\n",
              "      <td>...</td>\n",
              "      <td>...</td>\n",
              "      <td>...</td>\n",
              "      <td>...</td>\n",
              "      <td>...</td>\n",
              "      <td>...</td>\n",
              "    </tr>\n",
              "    <tr>\n",
              "      <th>9594</th>\n",
              "      <td>8</td>\n",
              "      <td>11</td>\n",
              "      <td>9</td>\n",
              "      <td>4</td>\n",
              "      <td>7</td>\n",
              "      <td>1</td>\n",
              "      <td>1</td>\n",
              "      <td>1</td>\n",
              "      <td>0</td>\n",
              "    </tr>\n",
              "    <tr>\n",
              "      <th>9595</th>\n",
              "      <td>8</td>\n",
              "      <td>14</td>\n",
              "      <td>12</td>\n",
              "      <td>4</td>\n",
              "      <td>1</td>\n",
              "      <td>1</td>\n",
              "      <td>0</td>\n",
              "      <td>1</td>\n",
              "      <td>0</td>\n",
              "    </tr>\n",
              "    <tr>\n",
              "      <th>9596</th>\n",
              "      <td>8</td>\n",
              "      <td>13</td>\n",
              "      <td>8</td>\n",
              "      <td>4</td>\n",
              "      <td>10</td>\n",
              "      <td>1</td>\n",
              "      <td>0</td>\n",
              "      <td>1</td>\n",
              "      <td>0</td>\n",
              "    </tr>\n",
              "    <tr>\n",
              "      <th>9597</th>\n",
              "      <td>8</td>\n",
              "      <td>13</td>\n",
              "      <td>8</td>\n",
              "      <td>2</td>\n",
              "      <td>3</td>\n",
              "      <td>0</td>\n",
              "      <td>0</td>\n",
              "      <td>1</td>\n",
              "      <td>0</td>\n",
              "    </tr>\n",
              "    <tr>\n",
              "      <th>9598</th>\n",
              "      <td>8</td>\n",
              "      <td>13</td>\n",
              "      <td>8</td>\n",
              "      <td>4</td>\n",
              "      <td>7</td>\n",
              "      <td>1</td>\n",
              "      <td>1</td>\n",
              "      <td>1</td>\n",
              "      <td>0</td>\n",
              "    </tr>\n",
              "  </tbody>\n",
              "</table>\n",
              "<p>9599 rows × 9 columns</p>\n",
              "</div>"
            ],
            "text/plain": [
              "      Kelas Pekerja  Pendidikan  ...  Jam Kerja  Akumulasi Berat\n",
              "0                 5          13  ...          1                0\n",
              "1                 8          13  ...          1                0\n",
              "2                 8          13  ...          1                0\n",
              "3                 8          13  ...          1                1\n",
              "4                 8          13  ...          0                0\n",
              "...             ...         ...  ...        ...              ...\n",
              "9594              8          11  ...          1                0\n",
              "9595              8          14  ...          1                0\n",
              "9596              8          13  ...          1                0\n",
              "9597              8          13  ...          1                0\n",
              "9598              8          13  ...          1                0\n",
              "\n",
              "[9599 rows x 9 columns]"
            ]
          },
          "metadata": {
            "tags": []
          },
          "execution_count": 224
        }
      ]
    },
    {
      "cell_type": "markdown",
      "metadata": {
        "id": "YEbZbRWbvyDy",
        "colab_type": "text"
      },
      "source": [
        "### Modelling and Train"
      ]
    },
    {
      "cell_type": "code",
      "metadata": {
        "id": "m7sPZC7s3EF7",
        "colab_type": "code",
        "colab": {}
      },
      "source": [
        "#trial 2\n",
        "df_train = df_train.drop(columns=['Keuntungan', 'Kerugian', 'Akumulasi Berat'])\n",
        "df_test = df_test.drop(columns=['Keuntungan', 'Kerugian', 'Akumulasi Berat'])"
      ],
      "execution_count": null,
      "outputs": []
    },
    {
      "cell_type": "code",
      "metadata": {
        "id": "L72SSSzd-U-G",
        "colab_type": "code",
        "colab": {}
      },
      "source": [
        "#trial 3\n",
        "df_train = df_train.drop(columns=['Keuntungan', 'Kerugian', 'Akumulasi Berat', 'Jmlh Tahun Pendidikan'])\n",
        "df_test = df_test.drop(columns=['Keuntungan', 'Kerugian', 'Akumulasi Berat', 'Jmlh Tahun Pendidikan'])"
      ],
      "execution_count": null,
      "outputs": []
    },
    {
      "cell_type": "code",
      "metadata": {
        "id": "jBfPutl9vtaS",
        "colab_type": "code",
        "colab": {}
      },
      "source": [
        "X_test = df_test\n",
        "X_train = df_train.drop(columns=['Gaji'])\n",
        "y_train = df_train['Gaji']"
      ],
      "execution_count": null,
      "outputs": []
    },
    {
      "cell_type": "code",
      "metadata": {
        "id": "w6re84aIwGaU",
        "colab_type": "code",
        "colab": {
          "base_uri": "https://localhost:8080/",
          "height": 202
        },
        "outputId": "ddbbd2a3-087f-431b-d98c-18512b00c822"
      },
      "source": [
        "from sklearn.model_selection import GridSearchCV\n",
        "from sklearn.neighbors import KNeighborsClassifier\n",
        "knn = KNeighborsClassifier()\n",
        "param_grid = {'n_neighbors':np.arange(5,21), 'weights':['uniform', 'distance']}\n",
        "gscv = GridSearchCV(knn, param_grid=param_grid, cv=5, scoring='roc_auc')\n",
        "\n",
        "gscv.fit(X_train, y_train)"
      ],
      "execution_count": null,
      "outputs": [
        {
          "output_type": "execute_result",
          "data": {
            "text/plain": [
              "GridSearchCV(cv=5, error_score=nan,\n",
              "             estimator=KNeighborsClassifier(algorithm='auto', leaf_size=30,\n",
              "                                            metric='minkowski',\n",
              "                                            metric_params=None, n_jobs=None,\n",
              "                                            n_neighbors=5, p=2,\n",
              "                                            weights='uniform'),\n",
              "             iid='deprecated', n_jobs=None,\n",
              "             param_grid={'n_neighbors': array([ 5,  6,  7,  8,  9, 10, 11, 12, 13, 14, 15, 16, 17, 18, 19, 20]),\n",
              "                         'weights': ['uniform', 'distance']},\n",
              "             pre_dispatch='2*n_jobs', refit=True, return_train_score=False,\n",
              "             scoring='roc_auc', verbose=0)"
            ]
          },
          "metadata": {
            "tags": []
          },
          "execution_count": 202
        }
      ]
    },
    {
      "cell_type": "code",
      "metadata": {
        "id": "l7XiE1Z0wHPF",
        "colab_type": "code",
        "colab": {
          "base_uri": "https://localhost:8080/",
          "height": 34
        },
        "outputId": "6ccf3b04-3a50-48d5-9f82-7f72d3ec9430"
      },
      "source": [
        "gscv.best_score_"
      ],
      "execution_count": null,
      "outputs": [
        {
          "output_type": "execute_result",
          "data": {
            "text/plain": [
              "0.8592288661782286"
            ]
          },
          "metadata": {
            "tags": []
          },
          "execution_count": 237
        }
      ]
    },
    {
      "cell_type": "code",
      "metadata": {
        "id": "ttBy1_OOxo1V",
        "colab_type": "code",
        "colab": {
          "base_uri": "https://localhost:8080/",
          "height": 34
        },
        "outputId": "1286e29d-ed62-4e32-b23d-6e8a4a6be484"
      },
      "source": [
        "gscv.best_params_"
      ],
      "execution_count": null,
      "outputs": [
        {
          "output_type": "execute_result",
          "data": {
            "text/plain": [
              "{'multi_class': 'auto', 'penalty': 'l2', 'solver': 'liblinear'}"
            ]
          },
          "metadata": {
            "tags": []
          },
          "execution_count": 238
        }
      ]
    },
    {
      "cell_type": "code",
      "metadata": {
        "id": "fLW2-a5_xsS8",
        "colab_type": "code",
        "colab": {}
      },
      "source": [
        "model_lr = LogisticRegression(multi_class='auto', penalty='l2', solver='liblinear').fit(X_train, y_train)\n",
        "y_predict = model_lr.predict(X_test)"
      ],
      "execution_count": null,
      "outputs": []
    },
    {
      "cell_type": "code",
      "metadata": {
        "id": "JqhYNxuGzr34",
        "colab_type": "code",
        "colab": {
          "base_uri": "https://localhost:8080/",
          "height": 34
        },
        "outputId": "c4dc177a-e34a-4600-e2e0-cbd009a4541b"
      },
      "source": [
        "np.unique(y_predict,return_counts=True)"
      ],
      "execution_count": null,
      "outputs": [
        {
          "output_type": "execute_result",
          "data": {
            "text/plain": [
              "(array([0, 1]), array([8001, 1598]))"
            ]
          },
          "metadata": {
            "tags": []
          },
          "execution_count": 241
        }
      ]
    },
    {
      "cell_type": "markdown",
      "metadata": {
        "id": "gg23k4kg00iC",
        "colab_type": "text"
      },
      "source": [
        "### Submission"
      ]
    },
    {
      "cell_type": "code",
      "metadata": {
        "id": "2cZL_MfF0AbE",
        "colab_type": "code",
        "colab": {
          "base_uri": "https://localhost:8080/",
          "height": 536
        },
        "outputId": "6859dd4f-79b3-4ae8-c2af-285fa1eb5499"
      },
      "source": [
        "df_test2 = pd.read_csv('pendapatan_test.csv')\n",
        "df_test2"
      ],
      "execution_count": null,
      "outputs": [
        {
          "output_type": "execute_result",
          "data": {
            "text/html": [
              "<div>\n",
              "<style scoped>\n",
              "    .dataframe tbody tr th:only-of-type {\n",
              "        vertical-align: middle;\n",
              "    }\n",
              "\n",
              "    .dataframe tbody tr th {\n",
              "        vertical-align: top;\n",
              "    }\n",
              "\n",
              "    .dataframe thead th {\n",
              "        text-align: right;\n",
              "    }\n",
              "</style>\n",
              "<table border=\"1\" class=\"dataframe\">\n",
              "  <thead>\n",
              "    <tr style=\"text-align: right;\">\n",
              "      <th></th>\n",
              "      <th>id</th>\n",
              "      <th>Umur</th>\n",
              "      <th>Kelas Pekerja</th>\n",
              "      <th>Berat Akhir</th>\n",
              "      <th>Pendidikan</th>\n",
              "      <th>Jmlh Tahun Pendidikan</th>\n",
              "      <th>Status Perkawinan</th>\n",
              "      <th>Pekerjaan</th>\n",
              "      <th>Jenis Kelamin</th>\n",
              "      <th>Keuntungan Kapital</th>\n",
              "      <th>Kerugian Capital</th>\n",
              "      <th>Jam per Minggu</th>\n",
              "    </tr>\n",
              "  </thead>\n",
              "  <tbody>\n",
              "    <tr>\n",
              "      <th>0</th>\n",
              "      <td>28794</td>\n",
              "      <td>31</td>\n",
              "      <td>Pemerintah Provinsi</td>\n",
              "      <td>207301</td>\n",
              "      <td>SMA</td>\n",
              "      <td>9</td>\n",
              "      <td>Menikah</td>\n",
              "      <td>Pemuka Agama</td>\n",
              "      <td>Perempuan</td>\n",
              "      <td>0.0</td>\n",
              "      <td>0.0</td>\n",
              "      <td>40.0</td>\n",
              "    </tr>\n",
              "    <tr>\n",
              "      <th>1</th>\n",
              "      <td>28795</td>\n",
              "      <td>34</td>\n",
              "      <td>Wiraswasta</td>\n",
              "      <td>324254</td>\n",
              "      <td>SMA</td>\n",
              "      <td>9</td>\n",
              "      <td>Menikah</td>\n",
              "      <td>Mesin Inspeksi</td>\n",
              "      <td>Laki2</td>\n",
              "      <td>0.0</td>\n",
              "      <td>0.0</td>\n",
              "      <td>40.0</td>\n",
              "    </tr>\n",
              "    <tr>\n",
              "      <th>2</th>\n",
              "      <td>28796</td>\n",
              "      <td>58</td>\n",
              "      <td>Wiraswasta</td>\n",
              "      <td>27385</td>\n",
              "      <td>SMA</td>\n",
              "      <td>9</td>\n",
              "      <td>Menikah</td>\n",
              "      <td>Ekesekutif Managerial</td>\n",
              "      <td>Laki2</td>\n",
              "      <td>0.0</td>\n",
              "      <td>0.0</td>\n",
              "      <td>60.0</td>\n",
              "    </tr>\n",
              "    <tr>\n",
              "      <th>3</th>\n",
              "      <td>28797</td>\n",
              "      <td>49</td>\n",
              "      <td>Wiraswasta</td>\n",
              "      <td>723746</td>\n",
              "      <td>SMA</td>\n",
              "      <td>9</td>\n",
              "      <td>Menikah</td>\n",
              "      <td>Perbaikan Kerajinan</td>\n",
              "      <td>Laki2</td>\n",
              "      <td>0.0</td>\n",
              "      <td>0.0</td>\n",
              "      <td>43.0</td>\n",
              "    </tr>\n",
              "    <tr>\n",
              "      <th>4</th>\n",
              "      <td>28798</td>\n",
              "      <td>60</td>\n",
              "      <td>Wiraswasta</td>\n",
              "      <td>194980</td>\n",
              "      <td>SMA</td>\n",
              "      <td>9</td>\n",
              "      <td>Berpisah</td>\n",
              "      <td>Pemuka Agama</td>\n",
              "      <td>Perempuan</td>\n",
              "      <td>0.0</td>\n",
              "      <td>0.0</td>\n",
              "      <td>20.0</td>\n",
              "    </tr>\n",
              "    <tr>\n",
              "      <th>...</th>\n",
              "      <td>...</td>\n",
              "      <td>...</td>\n",
              "      <td>...</td>\n",
              "      <td>...</td>\n",
              "      <td>...</td>\n",
              "      <td>...</td>\n",
              "      <td>...</td>\n",
              "      <td>...</td>\n",
              "      <td>...</td>\n",
              "      <td>...</td>\n",
              "      <td>...</td>\n",
              "      <td>...</td>\n",
              "    </tr>\n",
              "    <tr>\n",
              "      <th>9594</th>\n",
              "      <td>38388</td>\n",
              "      <td>54</td>\n",
              "      <td>Wiraswasta</td>\n",
              "      <td>297551</td>\n",
              "      <td>Pendidikan Tinggi</td>\n",
              "      <td>10</td>\n",
              "      <td>Menikah</td>\n",
              "      <td>Perbaikan Kerajinan</td>\n",
              "      <td>Laki2</td>\n",
              "      <td>102172000.0</td>\n",
              "      <td>0.0</td>\n",
              "      <td>40.0</td>\n",
              "    </tr>\n",
              "    <tr>\n",
              "      <th>9595</th>\n",
              "      <td>38389</td>\n",
              "      <td>33</td>\n",
              "      <td>Wiraswasta</td>\n",
              "      <td>236396</td>\n",
              "      <td>Sarjana</td>\n",
              "      <td>13</td>\n",
              "      <td>Menikah</td>\n",
              "      <td>Ekesekutif Managerial</td>\n",
              "      <td>Laki2</td>\n",
              "      <td>210336000.0</td>\n",
              "      <td>0.0</td>\n",
              "      <td>55.0</td>\n",
              "    </tr>\n",
              "    <tr>\n",
              "      <th>9596</th>\n",
              "      <td>38390</td>\n",
              "      <td>24</td>\n",
              "      <td>Wiraswasta</td>\n",
              "      <td>83774</td>\n",
              "      <td>SMA</td>\n",
              "      <td>9</td>\n",
              "      <td>Menikah</td>\n",
              "      <td>Servis Lainnya</td>\n",
              "      <td>Laki2</td>\n",
              "      <td>40390000.0</td>\n",
              "      <td>0.0</td>\n",
              "      <td>45.0</td>\n",
              "    </tr>\n",
              "    <tr>\n",
              "      <th>9597</th>\n",
              "      <td>38391</td>\n",
              "      <td>34</td>\n",
              "      <td>Wiraswasta</td>\n",
              "      <td>340458</td>\n",
              "      <td>SMA</td>\n",
              "      <td>9</td>\n",
              "      <td>Cerai</td>\n",
              "      <td>Mesin Inspeksi</td>\n",
              "      <td>Perempuan</td>\n",
              "      <td>0.0</td>\n",
              "      <td>0.0</td>\n",
              "      <td>40.0</td>\n",
              "    </tr>\n",
              "    <tr>\n",
              "      <th>9598</th>\n",
              "      <td>38392</td>\n",
              "      <td>63</td>\n",
              "      <td>Wiraswasta</td>\n",
              "      <td>209790</td>\n",
              "      <td>SMA</td>\n",
              "      <td>9</td>\n",
              "      <td>Menikah</td>\n",
              "      <td>Perbaikan Kerajinan</td>\n",
              "      <td>Laki2</td>\n",
              "      <td>0.0</td>\n",
              "      <td>0.0</td>\n",
              "      <td>40.0</td>\n",
              "    </tr>\n",
              "  </tbody>\n",
              "</table>\n",
              "<p>9599 rows × 12 columns</p>\n",
              "</div>"
            ],
            "text/plain": [
              "         id  Umur  ... Kerugian Capital  Jam per Minggu\n",
              "0     28794    31  ...              0.0            40.0\n",
              "1     28795    34  ...              0.0            40.0\n",
              "2     28796    58  ...              0.0            60.0\n",
              "3     28797    49  ...              0.0            43.0\n",
              "4     28798    60  ...              0.0            20.0\n",
              "...     ...   ...  ...              ...             ...\n",
              "9594  38388    54  ...              0.0            40.0\n",
              "9595  38389    33  ...              0.0            55.0\n",
              "9596  38390    24  ...              0.0            45.0\n",
              "9597  38391    34  ...              0.0            40.0\n",
              "9598  38392    63  ...              0.0            40.0\n",
              "\n",
              "[9599 rows x 12 columns]"
            ]
          },
          "metadata": {
            "tags": []
          },
          "execution_count": 242
        }
      ]
    },
    {
      "cell_type": "code",
      "metadata": {
        "id": "K6hC9fxc1Azx",
        "colab_type": "code",
        "colab": {
          "base_uri": "https://localhost:8080/",
          "height": 402
        },
        "outputId": "5db6fc13-f7a2-495a-e530-38fa83a59f78"
      },
      "source": [
        "submission = pd.DataFrame(df_test2['id'])\n",
        "submission['Gaji'] = y_predict\n",
        "submission"
      ],
      "execution_count": null,
      "outputs": [
        {
          "output_type": "execute_result",
          "data": {
            "text/html": [
              "<div>\n",
              "<style scoped>\n",
              "    .dataframe tbody tr th:only-of-type {\n",
              "        vertical-align: middle;\n",
              "    }\n",
              "\n",
              "    .dataframe tbody tr th {\n",
              "        vertical-align: top;\n",
              "    }\n",
              "\n",
              "    .dataframe thead th {\n",
              "        text-align: right;\n",
              "    }\n",
              "</style>\n",
              "<table border=\"1\" class=\"dataframe\">\n",
              "  <thead>\n",
              "    <tr style=\"text-align: right;\">\n",
              "      <th></th>\n",
              "      <th>id</th>\n",
              "      <th>Gaji</th>\n",
              "    </tr>\n",
              "  </thead>\n",
              "  <tbody>\n",
              "    <tr>\n",
              "      <th>0</th>\n",
              "      <td>28794</td>\n",
              "      <td>0</td>\n",
              "    </tr>\n",
              "    <tr>\n",
              "      <th>1</th>\n",
              "      <td>28795</td>\n",
              "      <td>0</td>\n",
              "    </tr>\n",
              "    <tr>\n",
              "      <th>2</th>\n",
              "      <td>28796</td>\n",
              "      <td>0</td>\n",
              "    </tr>\n",
              "    <tr>\n",
              "      <th>3</th>\n",
              "      <td>28797</td>\n",
              "      <td>0</td>\n",
              "    </tr>\n",
              "    <tr>\n",
              "      <th>4</th>\n",
              "      <td>28798</td>\n",
              "      <td>0</td>\n",
              "    </tr>\n",
              "    <tr>\n",
              "      <th>...</th>\n",
              "      <td>...</td>\n",
              "      <td>...</td>\n",
              "    </tr>\n",
              "    <tr>\n",
              "      <th>9594</th>\n",
              "      <td>38388</td>\n",
              "      <td>0</td>\n",
              "    </tr>\n",
              "    <tr>\n",
              "      <th>9595</th>\n",
              "      <td>38389</td>\n",
              "      <td>1</td>\n",
              "    </tr>\n",
              "    <tr>\n",
              "      <th>9596</th>\n",
              "      <td>38390</td>\n",
              "      <td>0</td>\n",
              "    </tr>\n",
              "    <tr>\n",
              "      <th>9597</th>\n",
              "      <td>38391</td>\n",
              "      <td>0</td>\n",
              "    </tr>\n",
              "    <tr>\n",
              "      <th>9598</th>\n",
              "      <td>38392</td>\n",
              "      <td>0</td>\n",
              "    </tr>\n",
              "  </tbody>\n",
              "</table>\n",
              "<p>9599 rows × 2 columns</p>\n",
              "</div>"
            ],
            "text/plain": [
              "         id  Gaji\n",
              "0     28794     0\n",
              "1     28795     0\n",
              "2     28796     0\n",
              "3     28797     0\n",
              "4     28798     0\n",
              "...     ...   ...\n",
              "9594  38388     0\n",
              "9595  38389     1\n",
              "9596  38390     0\n",
              "9597  38391     0\n",
              "9598  38392     0\n",
              "\n",
              "[9599 rows x 2 columns]"
            ]
          },
          "metadata": {
            "tags": []
          },
          "execution_count": 243
        }
      ]
    },
    {
      "cell_type": "code",
      "metadata": {
        "id": "_h0RFfil1TZf",
        "colab_type": "code",
        "colab": {
          "base_uri": "https://localhost:8080/",
          "height": 67
        },
        "outputId": "92045724-c1b9-4e52-e74a-833989d30c27"
      },
      "source": [
        "submission['Gaji'].value_counts()"
      ],
      "execution_count": null,
      "outputs": [
        {
          "output_type": "execute_result",
          "data": {
            "text/plain": [
              "0    8001\n",
              "1    1598\n",
              "Name: Gaji, dtype: int64"
            ]
          },
          "metadata": {
            "tags": []
          },
          "execution_count": 244
        }
      ]
    },
    {
      "cell_type": "code",
      "metadata": {
        "id": "6oThreSs2NOD",
        "colab_type": "code",
        "colab": {}
      },
      "source": [
        "submission.to_csv('subFinalProject4.csv', index=False)"
      ],
      "execution_count": null,
      "outputs": []
    }
  ]
}